{
 "cells": [
  {
   "cell_type": "code",
   "execution_count": 1,
   "metadata": {
    "collapsed": true,
    "deletable": true,
    "editable": true
   },
   "outputs": [],
   "source": [
    "import requests\n",
    "import pandas\n",
    "from pandas.io.json import json_normalize\n",
    "pandas.set_option('display.max_columns', None)"
   ]
  },
  {
   "cell_type": "code",
   "execution_count": 2,
   "metadata": {
    "collapsed": true,
    "deletable": true,
    "editable": true
   },
   "outputs": [],
   "source": [
    "url = \"https://bgg-json.azurewebsites.net/collection/londontye\""
   ]
  },
  {
   "cell_type": "code",
   "execution_count": 3,
   "metadata": {
    "collapsed": true,
    "deletable": true,
    "editable": true
   },
   "outputs": [],
   "source": [
    "r = requests.get(url)"
   ]
  },
  {
   "cell_type": "code",
   "execution_count": 4,
   "metadata": {
    "collapsed": false,
    "deletable": true,
    "editable": true
   },
   "outputs": [
    {
     "data": {
      "text/plain": [
       "{'averageRating': 5.23791,\n",
       " 'bggRating': 0.0,\n",
       " 'forTrade': False,\n",
       " 'gameId': 3525,\n",
       " 'image': '//cf.geekdo-images.com/images/pic1635977.jpg',\n",
       " 'isExpansion': False,\n",
       " 'maxPlayers': -1,\n",
       " 'minPlayers': 4,\n",
       " 'name': 'Act One',\n",
       " 'numPlays': 0,\n",
       " 'owned': True,\n",
       " 'playingTime': 30,\n",
       " 'preOrdered': False,\n",
       " 'previousOwned': False,\n",
       " 'rank': 11783,\n",
       " 'rating': -1.0,\n",
       " 'thumbnail': '//cf.geekdo-images.com/images/pic1635977_t.jpg',\n",
       " 'userComment': '',\n",
       " 'want': False,\n",
       " 'wantToBuy': False,\n",
       " 'wantToPlay': False,\n",
       " 'wishList': False,\n",
       " 'yearPublished': 1995}"
      ]
     },
     "execution_count": 4,
     "metadata": {},
     "output_type": "execute_result"
    }
   ],
   "source": [
    "r.json()[0]"
   ]
  },
  {
   "cell_type": "code",
   "execution_count": 6,
   "metadata": {
    "collapsed": false
   },
   "outputs": [
    {
     "data": {
      "text/plain": [
       "pandas.core.frame.DataFrame"
      ]
     },
     "execution_count": 6,
     "metadata": {},
     "output_type": "execute_result"
    }
   ],
   "source": [
    "result = json_normalize(r.json())\n",
    "result = result.loc[result['isExpansion'] == False]\n",
    "# \n",
    "type(result)"
   ]
  },
  {
   "cell_type": "code",
   "execution_count": 7,
   "metadata": {
    "collapsed": false
   },
   "outputs": [
    {
     "data": {
      "text/html": [
       "<div>\n",
       "<table border=\"1\" class=\"dataframe\">\n",
       "  <thead>\n",
       "    <tr style=\"text-align: right;\">\n",
       "      <th></th>\n",
       "      <th>gameId</th>\n",
       "      <th>name</th>\n",
       "      <th>maxPlayers</th>\n",
       "      <th>minPlayers</th>\n",
       "    </tr>\n",
       "  </thead>\n",
       "  <tbody>\n",
       "    <tr>\n",
       "      <th>0</th>\n",
       "      <td>3525</td>\n",
       "      <td>Act One</td>\n",
       "      <td>-1</td>\n",
       "      <td>4</td>\n",
       "    </tr>\n",
       "    <tr>\n",
       "      <th>1</th>\n",
       "      <td>155695</td>\n",
       "      <td>Age of War</td>\n",
       "      <td>6</td>\n",
       "      <td>2</td>\n",
       "    </tr>\n",
       "    <tr>\n",
       "      <th>2</th>\n",
       "      <td>2272</td>\n",
       "      <td>Aggravation</td>\n",
       "      <td>6</td>\n",
       "      <td>2</td>\n",
       "    </tr>\n",
       "    <tr>\n",
       "      <th>3</th>\n",
       "      <td>31260</td>\n",
       "      <td>Agricola</td>\n",
       "      <td>5</td>\n",
       "      <td>1</td>\n",
       "    </tr>\n",
       "    <tr>\n",
       "      <th>4</th>\n",
       "      <td>119890</td>\n",
       "      <td>Agricola: All Creatures Big and Small</td>\n",
       "      <td>2</td>\n",
       "      <td>2</td>\n",
       "    </tr>\n",
       "  </tbody>\n",
       "</table>\n",
       "</div>"
      ],
      "text/plain": [
       "   gameId                                   name  maxPlayers  minPlayers\n",
       "0    3525                                Act One          -1           4\n",
       "1  155695                             Age of War           6           2\n",
       "2    2272                            Aggravation           6           2\n",
       "3   31260                               Agricola           5           1\n",
       "4  119890  Agricola: All Creatures Big and Small           2           2"
      ]
     },
     "execution_count": 7,
     "metadata": {},
     "output_type": "execute_result"
    }
   ],
   "source": [
    "user_collection = result[['gameId','name','maxPlayers','minPlayers']]\n",
    "user_collection.head()"
   ]
  },
  {
   "cell_type": "code",
   "execution_count": 9,
   "metadata": {
    "collapsed": false
   },
   "outputs": [
    {
     "data": {
      "text/plain": [
       "313"
      ]
     },
     "execution_count": 9,
     "metadata": {},
     "output_type": "execute_result"
    }
   ],
   "source": [
    "len(user_collection)\n"
   ]
  },
  {
   "cell_type": "code",
   "execution_count": null,
   "metadata": {
    "collapsed": false
   },
   "outputs": [],
   "source": [
    "mechanic = [\"Acting\",\n",
    "\"Action / Movement Programming\",\n",
    "\"Action Point Allowance System\",\n",
    "\"Area Control / Area Influence\",\n",
    "\"Area Enclosure\",\n",
    "\"Area Movement\",\n",
    "\"Area-Impulse\",\n",
    "\"Auction/Bidding\",\n",
    "\"Betting/Wagering\",\n",
    "\"Campaign / Battle Card Driven\",\n",
    "\"Card Drafting\",\n",
    "\"Chit-Pull System\",\n",
    "\"Co-operative Play\",\n",
    "\"Commodity Speculation\",\n",
    "\"Crayon Rail System\",\n",
    "\"Deck / Pool Building\",\n",
    "\"Dice Rolling\",\n",
    "\"Grid Movement\",\n",
    "\"Hand Management\",\n",
    "\"Hex-and-Counter\",\n",
    "\"Line Drawing\",\n",
    "\"Memory\",\n",
    "\"Modular Board\",\n",
    "\"Paper-and-Pencil\",\n",
    "\"Partnerships\",\n",
    "\"Pattern Building\",\n",
    "\"Pattern Recognition\",\n",
    "\"Pick-up and Deliver\",\n",
    "\"Player Elimination\",\n",
    "\"Point to Point Movement\",\n",
    "\"Press Your Luck\",\n",
    "\"Rock-Paper-Scissors\",\n",
    "\"Role Playing\",\n",
    "\"Roll / Spin and Move\",\n",
    "\"Route/Network Building\",\n",
    "\"Secret Unit Deployment\",\n",
    "\"Set Collection\",\n",
    "\"Simulation\",\n",
    "\"Simultaneous Action Selection\",\n",
    "\"Singing\",\n",
    "\"Stock Holding\",\n",
    "\"Storytelling\",\n",
    "\"Take That\",\n",
    "\"Tile Placement\",\n",
    "\"Time Track\",\n",
    "\"Trading\",\n",
    "\"Trick-taking\",\n",
    "\"Variable Phase Order\",\n",
    "\"Variable Player Powers\",\n",
    "\"Voting\",\n",
    "\"Worker Placement\",]"
   ]
  },
  {
   "cell_type": "code",
   "execution_count": null,
   "metadata": {
    "collapsed": true
   },
   "outputs": [],
   "source": []
  }
 ],
 "metadata": {
  "kernelspec": {
   "display_name": "Python 3",
   "language": "python",
   "name": "python3"
  },
  "language_info": {
   "codemirror_mode": {
    "name": "ipython",
    "version": 3
   },
   "file_extension": ".py",
   "mimetype": "text/x-python",
   "name": "python",
   "nbconvert_exporter": "python",
   "pygments_lexer": "ipython3",
   "version": "3.5.2"
  }
 },
 "nbformat": 4,
 "nbformat_minor": 2
}
